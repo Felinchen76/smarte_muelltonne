{
  "metadata": {
    "kernelspec": {
      "name": "python",
      "display_name": "Python (Pyodide)",
      "language": "python"
    },
    "language_info": {
      "codemirror_mode": {
        "name": "python",
        "version": 3
      },
      "file_extension": ".py",
      "mimetype": "text/x-python",
      "name": "python",
      "nbconvert_exporter": "python",
      "pygments_lexer": "ipython3",
      "version": "3.8"
    }
  },
  "nbformat_minor": 5,
  "nbformat": 4,
  "cells": [
    {
      "id": "63ca14c2-da4d-40c5-94c7-31e38eb88062",
      "cell_type": "code",
      "source": "import pandas as pd\n\n# Beispielhafte Struktur für die Kalkulationstabelle mit realistischeren Entwicklungskosten\nkostenarten = [\n    ('Entwicklungskosten', [\n        ('Softwareentwicklung (App für Endanwender)', 75000.0),  \n        ('Softwareentwicklung (App/Dashboard für Entsorger)', 50000.0),\n        ('Technische Entwicklung LoRaWAN (Integration, Kommunikation)', 15000.0),  # LoRaWAN Entwicklungskosten; vllt kicken wir es raus, um den Preis zu hübschen\n        ('Sonstige Entwicklungskosten (z.B. Testing, Debugging, Schnittstellen, UI)', 10000.0),\n    ]),\n\n    ('Materialkosten', [\n        ('240L Mülltonne (Basis)', 40.0),\n        ('Arduino NodeMCU', 6.0),\n        ('Ultraschall-Sensor (HCSR04)', 1.5),\n        ('Gewichtssensor', 4.0),\n        ('Temperatursensor', 2.0),\n        ('GPS-Modul', 8.0),\n        ('RFID-Reader', 3.0),\n        ('LoRaWAN-Modul', 10.0),\n        ('Solarpanel', 10.0),\n        ('Akku', 5.0),\n        ('Gehäuse', 15.0),\n        ('Montagekosten', 25.0),  # Montagekosten gehören zu den Materialkosten\n    ]),\n\n    ('Betriebskosten', [\n        ('LoRaWAN-Betriebskosten (jährlich, geschätzt)', 30.0),\n        ('Sonstiges (z.B. Verpackung, Logistik)', 15.0)  # Zuordnung zu Betriebskosten überprüfen\n    ])\n]\n\n# Zusammenführen in einen DataFrame -> ist einfach nur eine Liste der obigen Einträge ;)\ndaten = []\nfor kategorie, komponenten in kostenarten:\n    for name, preis in komponenten:\n        daten.append({'Kostenart': kategorie, 'Komponente': name, 'Stückpreis_EUR': preis})\n\n# DataFrame erstellen\nkosten_df = pd.DataFrame(daten)\n\n\n#Kosten\n\n# Produktionskosten berechnen\n# Materialkosten & Betriebskosten werden pro Tonne (insgesamt 1000) multipliziert, Entwicklungskosten nur einmalig\nkosten_df['Gesamtpreis_EUR'] = kosten_df.apply(\n    lambda row: row['Stückpreis_EUR'] * 1000 if row['Kostenart'] == 'Materialkosten' else row['Stückpreis_EUR'],\n    axis=1\n)\n\n# Betriebskosten werden für 1000 Tonnen berechnet, da sie für 1 Tonne in der Liste stehen\nkosten_df['Gesamtpreis_EUR'] = kosten_df.apply(\n    lambda row: row['Stückpreis_EUR'] * 1000 if row['Kostenart'] == 'Betriebskosten' else row['Gesamtpreis_EUR'],\n    axis=1\n)\n# Aufsummieren pro Kostenart\ngesamt_pro_kategorie = kosten_df.groupby('Kostenart')['Gesamtpreis_EUR'].sum().to_dict()\n\n# Preis ist schon auf 1000 Tonnen hochgerechnet\ngesamtkosten_alle_tonnen = kosten_df['Gesamtpreis_EUR'].sum()\n\n# Einmalige Entwicklungskosten (gesamt)\neinmalige_entwicklungskosten = gesamt_pro_kategorie.get('Entwicklungskosten', 0)\n\n# Laufende Kosten pro Tonne (Materialkosten + Betriebskosten)\nlaufende_kosten_pro_tonne = gesamtkosten_alle_tonnen - einmalige_entwicklungskosten\nlaufende_kosten_pro_tonne /= 1000  # Auf die 1000 Tonnen runterbrechen\n\n# Entwicklungskosten pro Tonne\nentwicklungskosten_pro_tonne = einmalige_entwicklungskosten / 1000\n\n# Gesamtpreis pro Tonne\ngesamtkosten_pro_tonne = entwicklungskosten_pro_tonne + laufende_kosten_pro_tonne\n\n#Einnahmen & Gewinn\n\n# Laufende Servicegebühren (Subscription-Modell)\nmonatliche_servicegebuehr = 10.0  # pro Monat und Kunde\neinnahmen_durch_service = 12 * monatliche_servicegebuehr * 1000  # 1000 Kunden, aufs Jahr hoch rechnen\n\n# Einnahmen durch Datenverwertung (z.B. Abfalldaten)\neinnahmen_durch_daten = 2000  # jährliche Lizenzgebühr\n\n# Einnahmen durch Partnerschaften mit Kommunen oder Entsorgern für Datenlizenzen, idk ob jährlich realistisch\neinnahmen_durch_datenpartnerschaften = 10000  \n\n# Einnahmen aus Werbung in der Endanwender App:\nwerbung_pro_nutzer = 0.10  # €/Nutzer/Monat\nanzahl_nutzer = 1000  # bspw. 1000 Nutzer pro Monat\nwerbung_einnahmen = werbung_pro_nutzer * anzahl_nutzer * 12  # aufs Jahr rechnen\n\n# Einnahmen durch Premium-Servicegebühren für Endanwender (B2C)\nmonatliche_premium_servicegebuehr_endanwender = 3.0  # pro Nutzer\neinnahmen_durch_premium_endanwender = monatliche_premium_servicegebuehr_endanwender * 1000 * 12  # 1000 Endanwender, aufs Jahr\n\n# Einnahmen durch Premium-Servicegebühren für Entsorger (B2B)\nmonatliche_premium_servicegebuehr_entsorger = 50.0  # pro Tonne\neinnahmen_durch_premium_entsorger = monatliche_premium_servicegebuehr_entsorger * 12 * 1000  # aufs Jahr, 1000 Tonnen\n\n# Einnahmen durch Affiliate-Marketing:\nkauf_pro_nutzer = 50  # € pro Nutzer/Jahr\nprovision_pro_nutzer = 0.10  # 10 % Provision\naffiliate_einnahmen = kauf_pro_nutzer * provision_pro_nutzer * anzahl_nutzer  # Einnahmen aufs Jahr\n\n# Marge von 40% könnte gering sein, bin mir aber nicht sicher\nverkaufspreis_pro_tonne = laufende_kosten_pro_tonne * 1.4\ngewinn_pro_tonne = verkaufspreis_pro_tonne - laufende_kosten_pro_tonne\n\n# Gesamtgewinnberechnung\n# Gewinn aus Verkauf der 1000 Tonnen -> hier werden die Kosten je Tonne schon abgezogen\ngewinn_aus_verkauf = gewinn_pro_tonne * 1000\n\n# Laufende Einnahmen:\n# Einnahmen durch Servicegebühren\ngewinn_aus_service = einnahmen_durch_service - (5 * 1000)  # Betriebskosten für Service (5 EUR pro Kunde)\n\n# Gesamtgewinn inkl. aller Einnahmequellen\ngesamtgewinn = gewinn_aus_verkauf + gewinn_aus_service + einnahmen_durch_daten + einnahmen_durch_datenpartnerschaften + werbung_einnahmen + einnahmen_durch_premium_endanwender + einnahmen_durch_premium_entsorger + affiliate_einnahmen\n\n#Bericht\n\n# Ausgabe\nbericht = f\"\"\"\n=== Kalkulation Smarte Mülltonne ===\n\nKostenübersicht pro Kategorie:\nEntwicklungskosten:\n- Softwareentwicklung (App für Endanwender): {gesamt_pro_kategorie.get('Entwicklungskosten', 0):.2f} €\n- Softwareentwicklung (App/Dashboard für Entsorger): {gesamt_pro_kategorie.get('Entwicklungskosten', 1):.2f} €\n- Technische Entwicklung LoRaWAN (Integration, Kommunikation): {gesamt_pro_kategorie.get('Entwicklungskosten', 2):.2f} €\n- Sonstige Entwicklungskosten (Testing, Debugging, Schnittstellen): {gesamt_pro_kategorie.get('Entwicklungskosten', 3):.2f} €\nMaterialkosten: {gesamt_pro_kategorie.get('Materialkosten', 0):.2f} €\nBetriebskosten (jährlich): {gesamt_pro_kategorie.get('Betriebskosten', 0):.2f} €\n\nEinmalige Entwicklungskosten (gesamt): {einmalige_entwicklungskosten:.2f} €\nLaufende Kosten pro Tonne (ohne Entwicklungskosten): {laufende_kosten_pro_tonne:.2f} €\nVerkaufspreis pro Tonne: {verkaufspreis_pro_tonne:.2f} €\nGewinn pro Tonne: {gewinn_pro_tonne:.2f} €\nGewinn aus Verkauf der 1000 Tonnen: {gewinn_aus_verkauf:.2f} €\n\nLaufende Einnahmen:\nMonatliche Servicegebühr (pro Tonne): {monatliche_servicegebuehr:.2f} €\nJährliche Service-Einnahmen (1000 Kunden): {einnahmen_durch_service:.2f} €\nEinnahmen durch Datenverwertung: {einnahmen_durch_daten:.2f} €\nEinnahmen durch Datenpartnerschaften: {einnahmen_durch_datenpartnerschaften:.2f} €\nWerbungseinnahmen aus App: {werbung_einnahmen:.2f} €\nEinnahmen durch Premium-Servicegebühren (Endanwender): {einnahmen_durch_premium_endanwender:.2f} €\nEinnahmen durch Premium-Servicegebühren (Entsorger): {einnahmen_durch_premium_entsorger:.2f} €\nAffiliate-Marketing Einnahmen: {affiliate_einnahmen:.2f} €\n\nGesamtgewinn aus allen Einnahmequellen: {gesamtgewinn:.2f} €\n\"\"\"\n\nprint(bericht)\n\n# Falls gewünscht, Tabelle als Excel speichern\n# kosten_df.to_excel('kalkulation_smarte_muelltone.xlsx', index=False) \n\n",
      "metadata": {
        "trusted": true
      },
      "outputs": [
        {
          "name": "stdout",
          "output_type": "stream",
          "text": "\n=== Kalkulation Smarte Mülltonne ===\n\nKostenübersicht pro Kategorie:\nEntwicklungskosten:\n- Softwareentwicklung (App für Endanwender): 150000.00 €\n- Softwareentwicklung (App/Dashboard für Entsorger): 150000.00 €\n- Technische Entwicklung LoRaWAN (Integration, Kommunikation): 150000.00 €\n- Sonstige Entwicklungskosten (Testing, Debugging, Schnittstellen): 150000.00 €\nMaterialkosten: 129500.00 €\nBetriebskosten (jährlich): 45000.00 €\n\nEinmalige Entwicklungskosten (gesamt): 150000.00 €\nLaufende Kosten pro Tonne (ohne Entwicklungskosten): 174.50 €\nVerkaufspreis pro Tonne: 244.30 €\nGewinn pro Tonne: 69.80 €\nGewinn aus Verkauf der 1000 Tonnen: 69800.00 €\n\nLaufende Einnahmen:\nMonatliche Servicegebühr (pro Tonne): 10.00 €\nJährliche Service-Einnahmen (1000 Kunden): 120000.00 €\nEinnahmen durch Datenverwertung: 2000.00 €\nEinnahmen durch Datenpartnerschaften: 10000.00 €\nWerbungseinnahmen aus App: 1200.00 €\nEinnahmen durch Premium-Servicegebühren (Endanwender): 36000.00 €\nEinnahmen durch Premium-Servicegebühren (Entsorger): 600000.00 €\nAffiliate-Marketing Einnahmen: 5000.00 €\n\nGesamtgewinn aus allen Einnahmequellen: 839000.00 €\n\n"
        }
      ],
      "execution_count": 19
    },
    {
      "id": "688a119c-b056-419d-8a77-0c1d09916dc0",
      "cell_type": "code",
      "source": "",
      "metadata": {
        "trusted": true
      },
      "outputs": [
        {
          "name": "stdout",
          "output_type": "stream",
          "text": "\n=== Kalkulation Smarte Mülltonne ===\n\nKostenübersicht pro Kategorie:\nEntwicklungskosten:\n- Softwareentwicklung (App für Endanwender): 150000.00 €\n- Softwareentwicklung (App/Dashboard für Entsorger): 150000.00 €\n- Technische Entwicklung LoRaWAN (Integration, Kommunikation): 150000.00 €\n- Sonstige Entwicklungskosten (Testing, Debugging, Schnittstellen): 150000.00 €\nMaterialkosten: 129500.00 €\nBetriebskosten (jährlich): 45000.00 €\n\nEinmalige Entwicklungskosten (gesamt): 150000.00 €\nLaufende Kosten pro Tonne (ohne Entwicklungskosten): 174.50 €\nVerkaufspreis pro Tonne: 244.30 €\nGewinn pro Tonne: 69.80 €\nGewinn aus Verkauf der 1000 Tonnen: 69800.00 €\n\nLaufende Einnahmen:\nMonatliche Servicegebühr (pro Tonne): 10.00 €\nJährliche Service-Einnahmen (1000 Kunden): 120000.00 €\nEinnahmen durch Datenverwertung: 2000.00 €\nEinnahmen durch Datenpartnerschaften: 10000.00 €\nWerbungseinnahmen aus App: 1200.00 €\nEinnahmen durch Premium-Servicegebühren (Endanwender): 36000.00 €\nEinnahmen durch Premium-Servicegebühren (Entsorger): 600000.00 €\nAffiliate-Marketing Einnahmen: 5000.00 €\n\nGesamtgewinn aus allen Einnahmequellen: 839000.00 €\n\n"
        }
      ],
      "execution_count": 17
    },
    {
      "id": "44e96e6a-9cb6-4210-8cf0-2fa53ed82079",
      "cell_type": "code",
      "source": "",
      "metadata": {
        "trusted": true
      },
      "outputs": [],
      "execution_count": null
    }
  ]
}