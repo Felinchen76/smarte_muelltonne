{
  "metadata": {
    "kernelspec": {
      "name": "python",
      "display_name": "Python (Pyodide)",
      "language": "python"
    },
    "language_info": {
      "codemirror_mode": {
        "name": "python",
        "version": 3
      },
      "file_extension": ".py",
      "mimetype": "text/x-python",
      "name": "python",
      "nbconvert_exporter": "python",
      "pygments_lexer": "ipython3",
      "version": "3.8"
    }
  },
  "nbformat_minor": 5,
  "nbformat": 4,
  "cells": [
    {
      "id": "2ba3a4dc-da14-4c30-97c0-b8fa5a0ecfc8",
      "cell_type": "code",
      "source": "!pip install nbconvert\n\nimport pandas as pd\n\n# Kostenstruktur\nkostenarten = [\n    ('Entwicklungskosten', [ \n        ('Softwareentwicklung (App/Dashboard für Entsorger)', 90000.0),\n        ('Sonstige Entwicklungskosten (z.B. Testing, Debugging, Schnittstellen, UI)', 90000.0),\n        ('Technische Entwicklung LoRaWAN (Integration, Kommunikation)', 40000.0),\n    ]),\n\n    ('Materialkosten', [\n        ('240L Mülltonne (Basis)', 28.0),\n        ('Arduino NodeMCU', 3.5),\n        ('Ultraschall-Sensor (HCSR04)', 0.4),\n        ('Neigungssensor', 1.0),\n        ('Gewichtssensor', 1.9),\n        ('Temperatursensor', 1.0),\n        ('GPS-Modul', 4.2),\n        ('RFID-Reader', 0.85),\n        ('LoRaWAN-Modul', 0.52),\n        ('Solarpanel', 3.9),\n        ('Akku', 1.5),\n        ('Gehäuse', 1.0),\n        ('Montagekosten', 40.0),\n        ('Zubehör (Kabel, Steckpins, ...)', 0.2)\n    ]),\n\n    ('Betriebskosten', [\n        ('Netzwerk-Betriebskosten (jährlich, geschätzt)', 30.0),\n        ('Sonstiges (z.B. Verpackung, Logistik, Wartung)', 20.0)  \n    ])\n]\n\nanzahl_tonnen = 1000\nanzahl_entsorger  = 5\nnutzungsdauer = 3  # Jahre\n\n# DataFrame erstellen\ndaten = []\nfor kategorie, komponenten in kostenarten:\n    for name, preis in komponenten:\n        daten.append({'Kostenart': kategorie, 'Komponente': name, 'Stückpreis_EUR': preis})\n\nkosten_df = pd.DataFrame(daten)\n\n# Produktionskosten berechnen\nkosten_df['Gesamtpreis_EUR'] = kosten_df.apply(\n    lambda row: row['Stückpreis_EUR'] * anzahl_tonnen if row['Kostenart'] in ['Materialkosten', 'Betriebskosten'] else row['Stückpreis_EUR'],\n    axis=1\n)\n\n# Gesamtkosten pro Kategorie\ngesamt_pro_kategorie = kosten_df.groupby('Kostenart')['Gesamtpreis_EUR'].sum().to_dict()\ngesamtkosten_alle_tonnen = kosten_df['Gesamtpreis_EUR'].sum()\n\n# Einmalige Entwicklungskosten\neinmalige_entwicklungskosten = gesamt_pro_kategorie.get('Entwicklungskosten', 0)\n\n# Laufende Kosten pro Tonne (jährlich)\nlaufende_kosten_pro_tonne = (gesamt_pro_kategorie.get('Materialkosten', 0) + gesamt_pro_kategorie.get('Betriebskosten', 0)) / anzahl_tonnen\n\n# Verkauf (Einmaliger Erlös, keine jährlichen Einnahmen aus Tonnen-Verkauf)\nverkaufspreis_pro_tonne = laufende_kosten_pro_tonne * 1.6\ngewinn_pro_tonne = verkaufspreis_pro_tonne - laufende_kosten_pro_tonne\ngewinn_aus_verkauf = gewinn_pro_tonne * anzahl_tonnen  # Einmalig im Jahr 1\n\n# Leasingmodell (jährliche Leasingrate basierend auf Kosten / Nutzungsdauer)\nleasing_einnahmen_pro_jahr = (laufende_kosten_pro_tonne / nutzungsdauer) * anzahl_tonnen * 1.6\nleasing_kosten_pro_jahr = (laufende_kosten_pro_tonne / nutzungsdauer) * anzahl_tonnen\ngewinn_aus_leasing_pro_jahr = leasing_einnahmen_pro_jahr - leasing_kosten_pro_jahr\ngewinn_aus_leasing_gesamt = gewinn_aus_leasing_pro_jahr * nutzungsdauer\n\n# Laufende Einnahmen pro Jahr (Service, Premium, Daten)\nmonatliche_servicegebuehr = 10.0\nservice_kosten_pro_tonne = 5\nquote_service_nutzung = 0.3  # 30% Nutzung\n\neinnahmen_durch_service_pro_jahr = 12 * monatliche_servicegebuehr * anzahl_tonnen * quote_service_nutzung\nkosten_service_pro_jahr = service_kosten_pro_tonne * anzahl_tonnen\ngewinn_aus_service_pro_jahr = einnahmen_durch_service_pro_jahr - kosten_service_pro_jahr\ngewinn_aus_service_gesamt = gewinn_aus_service_pro_jahr * nutzungsdauer\n\neinnahmen_durch_daten_pro_jahr = 4000\neinnahmen_durch_datenpartnerschaften_pro_jahr = 8000\n\nmonatliche_premium_servicegebuehr_entsorger = 50.0\nquote_premium_entsorger = 0.3\n\neinnahmen_durch_premium_entsorger_pro_jahr = monatliche_premium_servicegebuehr_entsorger * 12 * anzahl_entsorger * quote_premium_entsorger\ngewinn_aus_premium_entsorger_gesamt = einnahmen_durch_premium_entsorger_pro_jahr * nutzungsdauer\n\n# Gesamtgewinn über 3 Jahre\ngesamtgewinn_verkauf = gewinn_aus_verkauf + gewinn_aus_service_gesamt + (einnahmen_durch_daten_pro_jahr + einnahmen_durch_datenpartnerschaften_pro_jahr) * nutzungsdauer + gewinn_aus_premium_entsorger_gesamt\ngesamtgewinn_leasing = gewinn_aus_leasing_gesamt + gewinn_aus_service_gesamt + (einnahmen_durch_daten_pro_jahr + einnahmen_durch_datenpartnerschaften_pro_jahr) * nutzungsdauer + gewinn_aus_premium_entsorger_gesamt\n\n# Entwicklungskosten aufschlüsseln\nentwicklung_df = kosten_df[kosten_df['Kostenart'] == 'Entwicklungskosten']\n\n# Deckungsbeitrag & Break-Even-Point (pro Jahr betrachtet)\ndeckungsbeitrag_pro_tonne = verkaufspreis_pro_tonne - laufende_kosten_pro_tonne\ngesamtdeckungsbeitrag = deckungsbeitrag_pro_tonne * anzahl_tonnen\n\nbreak_even_point_tonnen = einmalige_entwicklungskosten / deckungsbeitrag_pro_tonne\nbreak_even_point_tonnen = round(break_even_point_tonnen)\n\nbericht = f\"\"\"\n=== Kalkulation Smarte Mülltonne ===\n\nKostenübersicht pro Kategorie:\nEntwicklungskosten:\n\"\"\"\nfor _, row in entwicklung_df.iterrows():\n    bericht += f\"- {row['Komponente']}: {row['Gesamtpreis_EUR']:.2f} €\\n\"\n\nbericht += f\"\"\"\nMaterialkosten (gesamt): {gesamt_pro_kategorie.get('Materialkosten', 0):.2f} €\nBetriebskosten (jährlich, gesamt): {gesamt_pro_kategorie.get('Betriebskosten', 0):.2f} €\n\nEinmalige Entwicklungskosten (gesamt): {einmalige_entwicklungskosten:.2f} €\nLaufende Kosten pro Tonne (jährlich, ohne Entwicklungskosten): {laufende_kosten_pro_tonne:.2f} €\nVerkaufspreis pro Tonne (Einmalverkauf): {verkaufspreis_pro_tonne:.2f} €\nGewinn pro Tonne (Verkauf): {gewinn_pro_tonne:.2f} €\nGewinn aus Verkauf der Tonnen (einmalig): {gewinn_aus_verkauf:.2f} €\n\nLeasingmodell (über {nutzungsdauer} Jahre):\nGewinn aus Leasing pro Jahr: {gewinn_aus_leasing_pro_jahr:.2f} €\nGesamtgewinn aus Leasing: {gewinn_aus_leasing_gesamt:.2f} €\n\nLaufende Einnahmen (über {nutzungsdauer} Jahre):\nGewinn aus Service: {gewinn_aus_service_gesamt:.2f} €\nEinnahmen aus Datenverwertung (gesamt): {(einnahmen_durch_daten_pro_jahr + einnahmen_durch_datenpartnerschaften_pro_jahr) * nutzungsdauer:.2f} €\nGewinn aus Premium-Service (Entsorger): {gewinn_aus_premium_entsorger_gesamt:.2f} €\n\nGesamtgewinn über 3 Jahre (Verkaufsszenario): {gesamtgewinn_verkauf:.2f} €\nGesamtgewinn über 3 Jahre (Leasing-Szenario): {gesamtgewinn_leasing:.2f} €\n\nDeckungsbeitrag pro Tonne: {deckungsbeitrag_pro_tonne:.2f} €\nGesamtdeckungsbeitrag: {gesamtdeckungsbeitrag:.2f} €\nBreak-Even-Point: {break_even_point_tonnen} Tonnen\n\"\"\"\n\nprint(bericht)\n",
      "metadata": {
        "trusted": true
      },
      "outputs": [
        {
          "ename": "<class 'OSError'>",
          "evalue": "Not available",
          "traceback": [
            "\u001b[0;31m---------------------------------------------------------------------------\u001b[0m",
            "\u001b[0;31mOSError\u001b[0m                                   Traceback (most recent call last)",
            "Cell \u001b[0;32mIn[1], line 1\u001b[0m\n\u001b[0;32m----> 1\u001b[0m \u001b[43mget_ipython\u001b[49m\u001b[43m(\u001b[49m\u001b[43m)\u001b[49m\u001b[38;5;241;43m.\u001b[39;49m\u001b[43msystem\u001b[49m\u001b[43m(\u001b[49m\u001b[38;5;124;43m'\u001b[39;49m\u001b[38;5;124;43mpip install nbconvert\u001b[39;49m\u001b[38;5;124;43m'\u001b[39;49m\u001b[43m)\u001b[49m\n\u001b[1;32m      3\u001b[0m \u001b[38;5;28;01mimport\u001b[39;00m \u001b[38;5;21;01mpandas\u001b[39;00m \u001b[38;5;28;01mas\u001b[39;00m \u001b[38;5;21;01mpd\u001b[39;00m\n\u001b[1;32m      5\u001b[0m \u001b[38;5;66;03m# Kostenstruktur\u001b[39;00m\n",
            "File \u001b[0;32m/lib/python3.12/site-packages/IPython/core/interactiveshell.py:2653\u001b[0m, in \u001b[0;36mInteractiveShell.system_piped\u001b[0;34m(self, cmd)\u001b[0m\n\u001b[1;32m   2648\u001b[0m     \u001b[38;5;28;01mraise\u001b[39;00m \u001b[38;5;167;01mOSError\u001b[39;00m(\u001b[38;5;124m\"\u001b[39m\u001b[38;5;124mBackground processes not supported.\u001b[39m\u001b[38;5;124m\"\u001b[39m)\n\u001b[1;32m   2650\u001b[0m \u001b[38;5;66;03m# we explicitly do NOT return the subprocess status code, because\u001b[39;00m\n\u001b[1;32m   2651\u001b[0m \u001b[38;5;66;03m# a non-None value would trigger :func:`sys.displayhook` calls.\u001b[39;00m\n\u001b[1;32m   2652\u001b[0m \u001b[38;5;66;03m# Instead, we store the exit_code in user_ns.\u001b[39;00m\n\u001b[0;32m-> 2653\u001b[0m \u001b[38;5;28mself\u001b[39m\u001b[38;5;241m.\u001b[39muser_ns[\u001b[38;5;124m'\u001b[39m\u001b[38;5;124m_exit_code\u001b[39m\u001b[38;5;124m'\u001b[39m] \u001b[38;5;241m=\u001b[39m \u001b[43msystem\u001b[49m\u001b[43m(\u001b[49m\u001b[38;5;28;43mself\u001b[39;49m\u001b[38;5;241;43m.\u001b[39;49m\u001b[43mvar_expand\u001b[49m\u001b[43m(\u001b[49m\u001b[43mcmd\u001b[49m\u001b[43m,\u001b[49m\u001b[43m \u001b[49m\u001b[43mdepth\u001b[49m\u001b[38;5;241;43m=\u001b[39;49m\u001b[38;5;241;43m1\u001b[39;49m\u001b[43m)\u001b[49m\u001b[43m)\u001b[49m\n",
            "File \u001b[0;32m/lib/python3.12/site-packages/IPython/utils/_process_emscripten.py:11\u001b[0m, in \u001b[0;36msystem\u001b[0;34m(cmd)\u001b[0m\n\u001b[1;32m     10\u001b[0m \u001b[38;5;28;01mdef\u001b[39;00m \u001b[38;5;21msystem\u001b[39m(cmd):\n\u001b[0;32m---> 11\u001b[0m     \u001b[38;5;28;01mraise\u001b[39;00m \u001b[38;5;167;01mOSError\u001b[39;00m(\u001b[38;5;124m\"\u001b[39m\u001b[38;5;124mNot available\u001b[39m\u001b[38;5;124m\"\u001b[39m)\n",
            "\u001b[0;31mOSError\u001b[0m: Not available"
          ],
          "output_type": "error"
        }
      ],
      "execution_count": 1
    },
    {
      "id": "104b8ff7-79d7-462b-8c18-ea3e48419213",
      "cell_type": "code",
      "source": "",
      "metadata": {
        "trusted": true
      },
      "outputs": [],
      "execution_count": null
    }
  ]
}